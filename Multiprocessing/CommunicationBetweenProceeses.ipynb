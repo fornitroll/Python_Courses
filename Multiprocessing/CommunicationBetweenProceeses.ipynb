{
 "cells": [
  {
   "cell_type": "markdown",
   "metadata": {},
   "source": [
    "## Communication between processes\n",
    "Effective use of multiple processes usually requires some communication between them, so that work can be divided and results can be aggregated.\n",
    "\n",
    "<B> multiprocessing supports two types of communication channel between processes: </B>\n",
    "\n",
    "* Queue\n",
    "* Pipe\n",
    "\n",
    "https://docs.python.org/3/library/multiprocessing.html#exchanging-objects-between-processes"
   ]
  },
  {
   "cell_type": "markdown",
   "metadata": {},
   "source": [
    "## Method 1: Queue is a simple way to communicate between processes and pass messages back and forth. Any python object can be exchnaged through a queue\n",
    "https://docs.python.org/3/library/multiprocessing.html#multiprocessing.Queue"
   ]
  },
  {
   "cell_type": "code",
   "execution_count": 1,
   "metadata": {},
   "outputs": [],
   "source": [
    "import multiprocessing"
   ]
  },
  {
   "cell_type": "markdown",
   "metadata": {},
   "source": [
    "`put()`: it puts Put obj into the queue\n",
    "\n",
    "`get()`: Remove and return an item from the queue"
   ]
  },
  {
   "cell_type": "markdown",
   "metadata": {},
   "source": [
    "### At first the square of the list is put inside the queue once done the squared elements are printed until the queue is empty"
   ]
  },
  {
   "cell_type": "code",
   "execution_count": 15,
   "metadata": {},
   "outputs": [],
   "source": [
    "def is_even(numbers, q):\n",
    "    for n in numbers:\n",
    "        if n % 2 == 0:\n",
    "            q.put(n) \n",
    "        \n",
    "def print_numbers(q):\n",
    "    while not q.empty():\n",
    "        print(q.get())"
   ]
  },
  {
   "cell_type": "code",
   "execution_count": 16,
   "metadata": {},
   "outputs": [],
   "source": [
    "q = multiprocessing.Queue()"
   ]
  },
  {
   "cell_type": "code",
   "execution_count": 17,
   "metadata": {},
   "outputs": [],
   "source": [
    "p1 = multiprocessing.Process(target = is_even, args = (range(10), q))\n",
    "p2 = multiprocessing.Process(target = print_numbers, args = (q, ))"
   ]
  },
  {
   "cell_type": "code",
   "execution_count": 18,
   "metadata": {},
   "outputs": [
    {
     "name": "stdout",
     "output_type": "stream",
     "text": [
      "0\n",
      "2\n",
      "4\n",
      "6\n",
      "8\n"
     ]
    }
   ],
   "source": [
    "p1.start()\n",
    "p2.start()\n",
    "\n",
    "p1.join()\n",
    "p2.join()"
   ]
  },
  {
   "cell_type": "code",
   "execution_count": 14,
   "metadata": {},
   "outputs": [
    {
     "name": "stdout",
     "output_type": "stream",
     "text": [
      "2\n",
      "4\n",
      "6\n",
      "8\n"
     ]
    }
   ],
   "source": [
    "    while not q.empty():\n",
    "        print(q.get())"
   ]
  },
  {
   "cell_type": "markdown",
   "metadata": {},
   "source": [
    "## Method 2: The Pipe( ) function returns a pair of connection objects connected by a pipe which by default is duplex (two-way). \n",
    "* With the use of queue, communication can be made but pipe can be used between only two process for communication. \n",
    "* When communication is needed only between two processes than pipe is faster\n",
    "https://docs.python.org/3/library/multiprocessing.html#multiprocessing.Pipe"
   ]
  },
  {
   "cell_type": "markdown",
   "metadata": {},
   "source": [
    "Message is sent from one end of pipe to another using `send` method.\n",
    "\n",
    "To receive any messages at one end of a pipe, we use `recv` method"
   ]
  },
  {
   "cell_type": "markdown",
   "metadata": {},
   "source": [
    "In above program, we send a list of messages from one end to another. At the other end, we read messages until we receive end \"STOP' message."
   ]
  },
  {
   "cell_type": "code",
   "execution_count": 20,
   "metadata": {},
   "outputs": [],
   "source": [
    "def sender(connection, greets):\n",
    "    for greet in greets:\n",
    "        connection.send(greet) \n",
    "    connection.close()       \n",
    "    \n",
    "def recipient(connection):\n",
    "    while True:\n",
    "        greet = connection.recv() \n",
    "        if greet == \"STOP\": \n",
    "            break\n",
    "        print(greet)"
   ]
  },
  {
   "cell_type": "code",
   "execution_count": 21,
   "metadata": {},
   "outputs": [],
   "source": [
    "msgs = [\"Hello\", \"Hola\", \"Guten Tag\", \"STOP\"]"
   ]
  },
  {
   "cell_type": "markdown",
   "metadata": {},
   "source": [
    "#### Initialize a pipe\n",
    "This returns a pair of connection objects"
   ]
  },
  {
   "cell_type": "code",
   "execution_count": 22,
   "metadata": {},
   "outputs": [],
   "source": [
    "sending_pipe, receiving_pipe = multiprocessing.Pipe()"
   ]
  },
  {
   "cell_type": "code",
   "execution_count": 23,
   "metadata": {},
   "outputs": [
    {
     "data": {
      "text/plain": [
       "(<multiprocessing.connection.Connection at 0x7f985ff497d0>,\n",
       " <multiprocessing.connection.Connection at 0x7f985ff49810>)"
      ]
     },
     "execution_count": 23,
     "metadata": {},
     "output_type": "execute_result"
    }
   ],
   "source": [
    "multiprocessing.Pipe()"
   ]
  },
  {
   "cell_type": "code",
   "execution_count": 24,
   "metadata": {},
   "outputs": [],
   "source": [
    "p1 = multiprocessing.Process(target=sender, \n",
    "                             args=(sending_pipe, msgs))\n",
    "p2 = multiprocessing.Process(target=recipient, \n",
    "                             args=(receiving_pipe,))"
   ]
  },
  {
   "cell_type": "code",
   "execution_count": 25,
   "metadata": {},
   "outputs": [
    {
     "name": "stdout",
     "output_type": "stream",
     "text": [
      "Hello\n",
      "Hola\n",
      "Guten Tag\n"
     ]
    }
   ],
   "source": [
    "p1.start()\n",
    "p2.start()\n",
    "\n",
    "p1.join()\n",
    "p2.join()"
   ]
  },
  {
   "cell_type": "markdown",
   "metadata": {
    "jupyter": {
     "outputs_hidden": true
    }
   },
   "source": [
    "### For two way communication use two separate pipes"
   ]
  },
  {
   "cell_type": "code",
   "execution_count": null,
   "metadata": {
    "collapsed": true,
    "jupyter": {
     "outputs_hidden": true
    }
   },
   "outputs": [],
   "source": []
  },
  {
   "cell_type": "code",
   "execution_count": null,
   "metadata": {
    "collapsed": true,
    "jupyter": {
     "outputs_hidden": true
    }
   },
   "outputs": [],
   "source": []
  }
 ],
 "metadata": {
  "environment": {
   "name": "tf2-gpu.2-5.m70",
   "type": "gcloud",
   "uri": "gcr.io/deeplearning-platform-release/tf2-gpu.2-5:m70"
  },
  "kernelspec": {
   "display_name": "Python 3",
   "language": "python",
   "name": "python3"
  },
  "language_info": {
   "codemirror_mode": {
    "name": "ipython",
    "version": 3
   },
   "file_extension": ".py",
   "mimetype": "text/x-python",
   "name": "python",
   "nbconvert_exporter": "python",
   "pygments_lexer": "ipython3",
   "version": "3.7.10"
  }
 },
 "nbformat": 4,
 "nbformat_minor": 4
}
