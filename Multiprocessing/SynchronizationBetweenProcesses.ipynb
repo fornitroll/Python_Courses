{
 "cells": [
  {
   "cell_type": "markdown",
   "metadata": {},
   "source": [
    "### The concept of `multiprocessing lock` is similar to the lock in multi threading, without the use of lock when a shared data is accessed by a single process then other process can also access the shared data which will result a corrupt output"
   ]
  },
  {
   "cell_type": "markdown",
   "metadata": {},
   "source": [
    "https://docs.python.org/3/library/multiprocessing.html#synchronization-between-processes"
   ]
  },
  {
   "cell_type": "markdown",
   "metadata": {},
   "source": [
    "https://github.com/codebasics/py/blob/master/Multiprocessing/multiprocessing_lock.py"
   ]
  },
  {
   "cell_type": "code",
   "execution_count": 1,
   "metadata": {},
   "outputs": [],
   "source": [
    "import time\n",
    "import multiprocessing"
   ]
  },
  {
   "cell_type": "markdown",
   "metadata": {},
   "source": [
    "### Creating a simple deposit and withdraw operation without the help of multiprocessing"
   ]
  },
  {
   "cell_type": "code",
   "execution_count": 55,
   "metadata": {},
   "outputs": [],
   "source": [
    "def deposit_without_mp(balance, amount):\n",
    "    for i in range(100):\n",
    "        time.sleep(0.01)\n",
    "        balance += amount\n",
    "        print('deposit',multiprocessing.current_process())\n",
    "    return balance"
   ]
  },
  {
   "cell_type": "code",
   "execution_count": 56,
   "metadata": {},
   "outputs": [],
   "source": [
    "def withdraw_without_mp(balance, amount):\n",
    "    for i in range(100):\n",
    "        time.sleep(0.01)\n",
    "        balance -= amount\n",
    "        print('withdraw',multiprocessing.current_process())\n",
    "    return balance        "
   ]
  },
  {
   "cell_type": "code",
   "execution_count": 57,
   "metadata": {},
   "outputs": [
    {
     "data": {
      "text/plain": [
       "600"
      ]
     },
     "execution_count": 57,
     "metadata": {},
     "output_type": "execute_result"
    }
   ],
   "source": [
    "balance = 600\n",
    "balance"
   ]
  },
  {
   "cell_type": "code",
   "execution_count": 7,
   "metadata": {},
   "outputs": [
    {
     "data": {
      "text/plain": [
       "1100"
      ]
     },
     "execution_count": 7,
     "metadata": {},
     "output_type": "execute_result"
    }
   ],
   "source": [
    "balance = deposit_without_mp(balance, 5)\n",
    "balance"
   ]
  },
  {
   "cell_type": "code",
   "execution_count": 8,
   "metadata": {},
   "outputs": [
    {
     "name": "stdout",
     "output_type": "stream",
     "text": [
      "Final balance: 600\n"
     ]
    }
   ],
   "source": [
    "balance = withdraw_without_mp(balance, 5)\n",
    "print('Final balance:', balance)"
   ]
  },
  {
   "cell_type": "markdown",
   "metadata": {},
   "source": [
    "<b> `output`: Although the code is sequential but the output is fine <b>"
   ]
  },
  {
   "cell_type": "markdown",
   "metadata": {},
   "source": [
    "### This time for the same operation, multiprocessing is used, which is simplifying the operation\n",
    "The balance is a variable in shared memory now and is not returned by the functions"
   ]
  },
  {
   "cell_type": "code",
   "execution_count": 61,
   "metadata": {},
   "outputs": [],
   "source": [
    "import os"
   ]
  },
  {
   "cell_type": "code",
   "execution_count": 69,
   "metadata": {},
   "outputs": [],
   "source": [
    "def deposit_without_lock(balance, amount):\n",
    "    for i in range(100):\n",
    "        time.sleep(0.01)\n",
    "        balance.value += amount\n",
    "        #print('deposit',multiprocessing.current_process(), os.getpid())\n",
    "\n",
    "def withdraw_without_lock(balance, amount):\n",
    "    for i in range(100):\n",
    "        time.sleep(0.01)\n",
    "        balance.value -= amount\n",
    "        #print('withdraw',multiprocessing.current_process(), os.getpid())"
   ]
  },
  {
   "cell_type": "code",
   "execution_count": 70,
   "metadata": {},
   "outputs": [],
   "source": [
    "balance = multiprocessing.Value('i', 600)  # i-int type, 600 - value there"
   ]
  },
  {
   "cell_type": "code",
   "execution_count": 71,
   "metadata": {},
   "outputs": [
    {
     "name": "stdout",
     "output_type": "stream",
     "text": [
      "Final balance: 570\n"
     ]
    }
   ],
   "source": [
    "d = multiprocessing.Process(target=deposit_without_lock, args=(balance,5))\n",
    "w = multiprocessing.Process(target=withdraw_without_lock, args=(balance,5))\n",
    "\n",
    "d.start()\n",
    "w.start()\n",
    "\n",
    "d.join()\n",
    "w.join()\n",
    "\n",
    "print('Final balance:', balance.value)"
   ]
  },
  {
   "cell_type": "markdown",
   "metadata": {},
   "source": [
    "<b> `output`: When running for the first time the output may be correct but if we run it again and again then all we get is corrupt output, to solve this problem we use `Lock`  <b>"
   ]
  },
  {
   "cell_type": "markdown",
   "metadata": {},
   "source": [
    "### Creating the operation with `Lock`\n",
    "* For process synchronization, we use primitives same as `threading` module\n",
    "* `acquire()` is to lock the shared data for one process and `release()` is for to release the data after the process done working with the shared data"
   ]
  },
  {
   "cell_type": "code",
   "execution_count": 65,
   "metadata": {},
   "outputs": [],
   "source": [
    "def deposit_with_lock(balance, amount, lock):\n",
    "    \n",
    "    for i in range(100):\n",
    "        time.sleep(0.01)\n",
    "        \n",
    "        lock.acquire() \n",
    "        \n",
    "        balance.value += amount\n",
    "        print('deposit',multiprocessing.current_process(), os.getpid())\n",
    "        \n",
    "        lock.release()"
   ]
  },
  {
   "cell_type": "code",
   "execution_count": 66,
   "metadata": {},
   "outputs": [],
   "source": [
    "def withdraw_with_lock(balance, amount, lock):\n",
    "    \n",
    "    for i in range(100):\n",
    "        time.sleep(0.01)\n",
    "        \n",
    "        lock.acquire()\n",
    "        \n",
    "        balance.value -= amount\n",
    "        print('withdraw',multiprocessing.current_process(), os.getpid())\n",
    "        \n",
    "        lock.release()"
   ]
  },
  {
   "cell_type": "code",
   "execution_count": 67,
   "metadata": {},
   "outputs": [],
   "source": [
    "balance = multiprocessing.Value('i', 600)\n",
    "lock = multiprocessing.Lock()"
   ]
  },
  {
   "cell_type": "code",
   "execution_count": 68,
   "metadata": {
    "collapsed": true,
    "jupyter": {
     "outputs_hidden": true
    }
   },
   "outputs": [
    {
     "name": "stdout",
     "output_type": "stream",
     "text": [
      "deposit <Process(Process-43, started)> 8774\n",
      "withdraw <Process(Process-44, started)> 8775\n",
      "deposit <Process(Process-43, started)> 8774\n",
      "withdraw <Process(Process-44, started)> 8775\n",
      "deposit <Process(Process-43, started)> 8774\n",
      "withdraw <Process(Process-44, started)> 8775\n",
      "deposit <Process(Process-43, started)> 8774\n",
      "withdraw <Process(Process-44, started)> 8775\n",
      "deposit <Process(Process-43, started)> 8774\n",
      "withdraw <Process(Process-44, started)> 8775\n",
      "deposit <Process(Process-43, started)> 8774\n",
      "withdraw <Process(Process-44, started)> 8775\n",
      "deposit <Process(Process-43, started)> 8774\n",
      "withdraw <Process(Process-44, started)> 8775\n",
      "deposit <Process(Process-43, started)> 8774\n",
      "withdraw <Process(Process-44, started)> 8775\n",
      "deposit <Process(Process-43, started)> 8774\n",
      "withdraw <Process(Process-44, started)> 8775\n",
      "deposit <Process(Process-43, started)> 8774\n",
      "withdraw <Process(Process-44, started)> 8775\n",
      "deposit <Process(Process-43, started)> 8774\n",
      "withdraw <Process(Process-44, started)> 8775\n",
      "deposit <Process(Process-43, started)> 8774\n",
      "withdraw <Process(Process-44, started)> 8775\n",
      "deposit <Process(Process-43, started)> 8774\n",
      "withdraw <Process(Process-44, started)> 8775\n",
      "deposit <Process(Process-43, started)> 8774\n",
      "withdraw <Process(Process-44, started)> 8775\n",
      "deposit <Process(Process-43, started)> 8774\n",
      "withdraw <Process(Process-44, started)> 8775\n",
      "deposit <Process(Process-43, started)> 8774\n",
      "withdraw <Process(Process-44, started)> 8775\n",
      "deposit <Process(Process-43, started)> 8774\n",
      "withdraw <Process(Process-44, started)> 8775\n",
      "deposit <Process(Process-43, started)> 8774\n",
      "withdraw <Process(Process-44, started)> 8775\n",
      "deposit <Process(Process-43, started)> 8774\n",
      "withdraw <Process(Process-44, started)> 8775\n",
      "deposit <Process(Process-43, started)> 8774\n",
      "withdraw <Process(Process-44, started)> 8775\n",
      "deposit <Process(Process-43, started)> 8774\n",
      "withdraw <Process(Process-44, started)> 8775\n",
      "deposit <Process(Process-43, started)> 8774\n",
      "withdraw <Process(Process-44, started)> 8775\n",
      "deposit <Process(Process-43, started)> 8774\n",
      "withdraw <Process(Process-44, started)> 8775\n",
      "deposit <Process(Process-43, started)> 8774\n",
      "withdraw <Process(Process-44, started)> 8775\n",
      "deposit <Process(Process-43, started)> 8774\n",
      "withdraw <Process(Process-44, started)> 8775\n",
      "deposit <Process(Process-43, started)> 8774\n",
      "withdraw <Process(Process-44, started)> 8775\n",
      "deposit <Process(Process-43, started)> 8774\n",
      "withdraw <Process(Process-44, started)> 8775\n",
      "deposit <Process(Process-43, started)> 8774\n",
      "withdraw <Process(Process-44, started)> 8775\n",
      "deposit <Process(Process-43, started)> 8774\n",
      "withdraw <Process(Process-44, started)> 8775\n",
      "deposit <Process(Process-43, started)> 8774\n",
      "withdraw <Process(Process-44, started)> 8775\n",
      "deposit <Process(Process-43, started)> 8774\n",
      "withdraw <Process(Process-44, started)> 8775\n",
      "deposit <Process(Process-43, started)> 8774\n",
      "withdraw <Process(Process-44, started)> 8775\n",
      "deposit <Process(Process-43, started)> 8774\n",
      "withdraw <Process(Process-44, started)> 8775\n",
      "deposit <Process(Process-43, started)> 8774\n",
      "withdraw <Process(Process-44, started)> 8775\n",
      "deposit <Process(Process-43, started)> 8774\n",
      "withdraw <Process(Process-44, started)> 8775\n",
      "deposit <Process(Process-43, started)> 8774\n",
      "withdraw <Process(Process-44, started)> 8775\n",
      "deposit <Process(Process-43, started)> 8774\n",
      "withdraw <Process(Process-44, started)> 8775\n",
      "deposit <Process(Process-43, started)> 8774\n",
      "withdraw <Process(Process-44, started)> 8775\n",
      "deposit <Process(Process-43, started)> 8774\n",
      "withdraw <Process(Process-44, started)> 8775\n",
      "deposit <Process(Process-43, started)> 8774\n",
      "withdraw <Process(Process-44, started)> 8775\n",
      "deposit <Process(Process-43, started)> 8774\n",
      "withdraw <Process(Process-44, started)> 8775\n",
      "deposit <Process(Process-43, started)> 8774\n",
      "withdraw <Process(Process-44, started)> 8775\n",
      "deposit <Process(Process-43, started)> 8774\n",
      "withdraw <Process(Process-44, started)> 8775\n",
      "deposit <Process(Process-43, started)> 8774\n",
      "withdraw <Process(Process-44, started)> 8775\n",
      "deposit <Process(Process-43, started)> 8774\n",
      "withdraw <Process(Process-44, started)> 8775\n",
      "deposit <Process(Process-43, started)> 8774\n",
      "withdraw <Process(Process-44, started)> 8775\n",
      "deposit <Process(Process-43, started)> 8774\n",
      "withdraw <Process(Process-44, started)> 8775\n",
      "deposit <Process(Process-43, started)> 8774\n",
      "withdraw <Process(Process-44, started)> 8775\n",
      "deposit <Process(Process-43, started)> 8774\n",
      "withdraw <Process(Process-44, started)> 8775\n",
      "deposit <Process(Process-43, started)> 8774\n",
      "withdraw <Process(Process-44, started)> 8775\n",
      "deposit <Process(Process-43, started)> 8774\n",
      "withdraw <Process(Process-44, started)> 8775\n",
      "deposit <Process(Process-43, started)> 8774\n",
      "withdraw <Process(Process-44, started)> 8775\n",
      "deposit <Process(Process-43, started)> 8774\n",
      "withdraw <Process(Process-44, started)> 8775\n",
      "deposit <Process(Process-43, started)> 8774\n",
      "withdraw <Process(Process-44, started)> 8775\n",
      "deposit <Process(Process-43, started)> 8774\n",
      "withdraw <Process(Process-44, started)> 8775\n",
      "deposit <Process(Process-43, started)> 8774\n",
      "withdraw <Process(Process-44, started)> 8775\n",
      "deposit <Process(Process-43, started)> 8774\n",
      "withdraw <Process(Process-44, started)> 8775\n",
      "deposit <Process(Process-43, started)> 8774\n",
      "withdraw <Process(Process-44, started)> 8775\n",
      "deposit <Process(Process-43, started)> 8774\n",
      "withdraw <Process(Process-44, started)> 8775\n",
      "deposit <Process(Process-43, started)> 8774\n",
      "withdraw <Process(Process-44, started)> 8775\n",
      "deposit <Process(Process-43, started)> 8774\n",
      "withdraw <Process(Process-44, started)> 8775\n",
      "deposit <Process(Process-43, started)> 8774\n",
      "withdraw <Process(Process-44, started)> 8775\n",
      "deposit <Process(Process-43, started)> 8774\n",
      "withdraw <Process(Process-44, started)> 8775\n",
      "deposit <Process(Process-43, started)> 8774\n",
      "withdraw <Process(Process-44, started)> 8775\n",
      "deposit <Process(Process-43, started)> 8774\n",
      "withdraw <Process(Process-44, started)> 8775\n",
      "deposit <Process(Process-43, started)> 8774\n",
      "withdraw <Process(Process-44, started)> 8775\n",
      "deposit <Process(Process-43, started)> 8774\n",
      "withdraw <Process(Process-44, started)> 8775\n",
      "deposit <Process(Process-43, started)> 8774\n",
      "withdraw <Process(Process-44, started)> 8775\n",
      "deposit <Process(Process-43, started)> 8774\n",
      "withdraw <Process(Process-44, started)> 8775\n",
      "deposit <Process(Process-43, started)> 8774\n",
      "withdraw <Process(Process-44, started)> 8775\n",
      "deposit <Process(Process-43, started)> 8774\n",
      "withdraw <Process(Process-44, started)> 8775\n",
      "deposit <Process(Process-43, started)> 8774\n",
      "withdraw <Process(Process-44, started)> 8775\n",
      "deposit <Process(Process-43, started)> 8774\n",
      "withdraw <Process(Process-44, started)> 8775\n",
      "deposit <Process(Process-43, started)> 8774\n",
      "withdraw <Process(Process-44, started)> 8775\n",
      "deposit <Process(Process-43, started)> 8774\n",
      "withdraw <Process(Process-44, started)> 8775\n",
      "deposit <Process(Process-43, started)> 8774\n",
      "withdraw <Process(Process-44, started)> 8775\n",
      "deposit <Process(Process-43, started)> 8774\n",
      "withdraw <Process(Process-44, started)> 8775\n",
      "deposit <Process(Process-43, started)> 8774\n",
      "withdraw <Process(Process-44, started)> 8775\n",
      "deposit <Process(Process-43, started)> 8774\n",
      "withdraw <Process(Process-44, started)> 8775\n",
      "deposit <Process(Process-43, started)> 8774\n",
      "withdraw <Process(Process-44, started)> 8775\n",
      "deposit <Process(Process-43, started)> 8774\n",
      "withdraw <Process(Process-44, started)> 8775\n",
      "deposit <Process(Process-43, started)> 8774\n",
      "withdraw <Process(Process-44, started)> 8775\n",
      "deposit <Process(Process-43, started)> 8774\n",
      "withdraw <Process(Process-44, started)> 8775\n",
      "deposit <Process(Process-43, started)> 8774\n",
      "withdraw <Process(Process-44, started)> 8775\n",
      "deposit <Process(Process-43, started)> 8774\n",
      "withdraw <Process(Process-44, started)> 8775\n",
      "deposit <Process(Process-43, started)> 8774\n",
      "withdraw <Process(Process-44, started)> 8775\n",
      "deposit <Process(Process-43, started)> 8774\n",
      "withdraw <Process(Process-44, started)> 8775\n",
      "deposit <Process(Process-43, started)> 8774\n",
      "withdraw <Process(Process-44, started)> 8775\n",
      "deposit <Process(Process-43, started)> 8774\n",
      "withdraw <Process(Process-44, started)> 8775\n",
      "deposit <Process(Process-43, started)> 8774\n",
      "withdraw <Process(Process-44, started)> 8775\n",
      "deposit <Process(Process-43, started)> 8774\n",
      "withdraw <Process(Process-44, started)> 8775\n",
      "deposit <Process(Process-43, started)> 8774\n",
      "withdraw <Process(Process-44, started)> 8775\n",
      "deposit <Process(Process-43, started)> 8774\n",
      "withdraw <Process(Process-44, started)> 8775\n",
      "deposit <Process(Process-43, started)> 8774\n",
      "withdraw <Process(Process-44, started)> 8775\n",
      "deposit <Process(Process-43, started)> 8774\n",
      "withdraw <Process(Process-44, started)> 8775\n",
      "deposit <Process(Process-43, started)> 8774\n",
      "withdraw <Process(Process-44, started)> 8775\n",
      "deposit <Process(Process-43, started)> 8774\n",
      "withdraw <Process(Process-44, started)> 8775\n",
      "deposit <Process(Process-43, started)> 8774\n",
      "withdraw <Process(Process-44, started)> 8775\n",
      "deposit <Process(Process-43, started)> 8774\n",
      "withdraw <Process(Process-44, started)> 8775\n",
      "deposit <Process(Process-43, started)> 8774\n",
      "withdraw <Process(Process-44, started)> 8775\n",
      "Final balance: 600\n"
     ]
    }
   ],
   "source": [
    "d = multiprocessing.Process(target=deposit_with_lock, \n",
    "                            args=(balance, 5, lock))\n",
    "w = multiprocessing.Process(target=withdraw_with_lock, \n",
    "                            args=(balance, 5, lock))\n",
    "\n",
    "d.start()\n",
    "w.start()\n",
    "\n",
    "d.join()\n",
    "w.join()\n",
    "\n",
    "print('Final balance:', balance.value)"
   ]
  },
  {
   "cell_type": "markdown",
   "metadata": {},
   "source": [
    "<b> `output`: This time we get the correct time each time we run the operation <b>"
   ]
  },
  {
   "cell_type": "code",
   "execution_count": null,
   "metadata": {
    "collapsed": true,
    "jupyter": {
     "outputs_hidden": true
    }
   },
   "outputs": [],
   "source": []
  },
  {
   "cell_type": "code",
   "execution_count": null,
   "metadata": {
    "collapsed": true,
    "jupyter": {
     "outputs_hidden": true
    }
   },
   "outputs": [],
   "source": []
  },
  {
   "cell_type": "code",
   "execution_count": null,
   "metadata": {
    "collapsed": true,
    "jupyter": {
     "outputs_hidden": true
    }
   },
   "outputs": [],
   "source": []
  },
  {
   "cell_type": "code",
   "execution_count": null,
   "metadata": {
    "collapsed": true,
    "jupyter": {
     "outputs_hidden": true
    }
   },
   "outputs": [],
   "source": []
  },
  {
   "cell_type": "code",
   "execution_count": null,
   "metadata": {
    "collapsed": true,
    "jupyter": {
     "outputs_hidden": true
    }
   },
   "outputs": [],
   "source": []
  },
  {
   "cell_type": "code",
   "execution_count": null,
   "metadata": {
    "collapsed": true,
    "jupyter": {
     "outputs_hidden": true
    }
   },
   "outputs": [],
   "source": []
  },
  {
   "cell_type": "code",
   "execution_count": null,
   "metadata": {
    "collapsed": true,
    "jupyter": {
     "outputs_hidden": true
    }
   },
   "outputs": [],
   "source": []
  },
  {
   "cell_type": "code",
   "execution_count": null,
   "metadata": {
    "collapsed": true,
    "jupyter": {
     "outputs_hidden": true
    }
   },
   "outputs": [],
   "source": []
  },
  {
   "cell_type": "code",
   "execution_count": null,
   "metadata": {
    "collapsed": true,
    "jupyter": {
     "outputs_hidden": true
    }
   },
   "outputs": [],
   "source": []
  },
  {
   "cell_type": "code",
   "execution_count": null,
   "metadata": {
    "collapsed": true,
    "jupyter": {
     "outputs_hidden": true
    }
   },
   "outputs": [],
   "source": []
  },
  {
   "cell_type": "code",
   "execution_count": null,
   "metadata": {
    "collapsed": true,
    "jupyter": {
     "outputs_hidden": true
    }
   },
   "outputs": [],
   "source": []
  },
  {
   "cell_type": "code",
   "execution_count": null,
   "metadata": {
    "collapsed": true,
    "jupyter": {
     "outputs_hidden": true
    }
   },
   "outputs": [],
   "source": []
  },
  {
   "cell_type": "code",
   "execution_count": null,
   "metadata": {
    "collapsed": true,
    "jupyter": {
     "outputs_hidden": true
    }
   },
   "outputs": [],
   "source": []
  },
  {
   "cell_type": "code",
   "execution_count": null,
   "metadata": {
    "collapsed": true,
    "jupyter": {
     "outputs_hidden": true
    }
   },
   "outputs": [],
   "source": []
  },
  {
   "cell_type": "code",
   "execution_count": null,
   "metadata": {
    "collapsed": true,
    "jupyter": {
     "outputs_hidden": true
    }
   },
   "outputs": [],
   "source": []
  },
  {
   "cell_type": "code",
   "execution_count": null,
   "metadata": {
    "collapsed": true,
    "jupyter": {
     "outputs_hidden": true
    }
   },
   "outputs": [],
   "source": []
  },
  {
   "cell_type": "code",
   "execution_count": null,
   "metadata": {
    "collapsed": true,
    "jupyter": {
     "outputs_hidden": true
    }
   },
   "outputs": [],
   "source": []
  },
  {
   "cell_type": "code",
   "execution_count": null,
   "metadata": {
    "collapsed": true,
    "jupyter": {
     "outputs_hidden": true
    }
   },
   "outputs": [],
   "source": []
  }
 ],
 "metadata": {
  "environment": {
   "name": "tf2-gpu.2-5.m70",
   "type": "gcloud",
   "uri": "gcr.io/deeplearning-platform-release/tf2-gpu.2-5:m70"
  },
  "kernelspec": {
   "display_name": "Python 3",
   "language": "python",
   "name": "python3"
  },
  "language_info": {
   "codemirror_mode": {
    "name": "ipython",
    "version": 3
   },
   "file_extension": ".py",
   "mimetype": "text/x-python",
   "name": "python",
   "nbconvert_exporter": "python",
   "pygments_lexer": "ipython3",
   "version": "3.7.10"
  }
 },
 "nbformat": 4,
 "nbformat_minor": 4
}
