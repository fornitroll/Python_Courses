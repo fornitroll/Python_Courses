{
 "cells": [
  {
   "cell_type": "markdown",
   "metadata": {},
   "source": [
    "### In this demo the the difference between multiprocessing and multithreading in terms of memory sharing is demostrated"
   ]
  },
  {
   "cell_type": "code",
   "execution_count": 1,
   "metadata": {},
   "outputs": [],
   "source": [
    "import time\n",
    "import multiprocessing"
   ]
  },
  {
   "cell_type": "code",
   "execution_count": 2,
   "metadata": {},
   "outputs": [],
   "source": [
    "def square(numbers):\n",
    "    for n in numbers:\n",
    "        print('square of %d is %d' % (n, n*n))\n",
    "\n",
    "def cube(numbers):\n",
    "    for n in numbers:\n",
    "        print('cube of %d is %d' % (n, n*n*n))"
   ]
  },
  {
   "cell_type": "code",
   "execution_count": 3,
   "metadata": {},
   "outputs": [
    {
     "name": "stdout",
     "output_type": "stream",
     "text": [
      "square of 2 is 4\n",
      "square of 3 is 9\n",
      "cube of 2 is 8square of 8 is 64\n",
      "\n",
      "cube of 3 is 27\n",
      "cube of 8 is 512\n",
      "\n",
      "Completed\n"
     ]
    }
   ],
   "source": [
    "num_list = [2,3,8]\n",
    "\n",
    "p1 = multiprocessing.Process(target=square, args=(num_list,))\n",
    "p2 = multiprocessing.Process(target=cube, args=(num_list,))\n",
    "\n",
    "p1.start()\n",
    "p2.start()\n",
    "\n",
    "p1.join()\n",
    "p2.join()\n",
    "\n",
    "print(\"\\nCompleted\")"
   ]
  },
  {
   "cell_type": "markdown",
   "metadata": {},
   "source": [
    "### Instead of printing the result, save it in a global variable, declaring a global variable `square_result `"
   ]
  },
  {
   "cell_type": "code",
   "execution_count": 4,
   "metadata": {},
   "outputs": [],
   "source": [
    "square_result = []\n",
    "\n",
    "def square(numbers):\n",
    "    \n",
    "    global square_result\n",
    "    \n",
    "    for n in numbers:\n",
    "        print('square of %d is %d' % (n, n*n))\n",
    "        square_result.append(n*n)\n",
    "        "
   ]
  },
  {
   "cell_type": "code",
   "execution_count": 5,
   "metadata": {},
   "outputs": [
    {
     "name": "stdout",
     "output_type": "stream",
     "text": [
      "square of 2 is 4\n",
      "square of 3 is 9\n",
      "square of 8 is 64\n",
      "\n",
      "Result: []\n",
      "\n",
      "Completed\n"
     ]
    }
   ],
   "source": [
    "p1 = multiprocessing.Process(target=square, args=(num_list,))\n",
    "\n",
    "p1.start()\n",
    "p1.join()\n",
    "    \n",
    "print('\\nResult:', square_result)\n",
    "\n",
    "print(\"\\nCompleted\")"
   ]
  },
  {
   "cell_type": "markdown",
   "metadata": {},
   "source": [
    "`output`: the result has not been saved inside the list instead we are getting an empty list which we created initially, because every process has their own memory space, every process copies the global variable and the original global variable will not be changed, that is why when the `square_result` is printed outside the process (the function is behaving like a process here) it is printing the empty list"
   ]
  },
  {
   "cell_type": "markdown",
   "metadata": {},
   "source": [
    "#### `Note`: Every process has its own address space(virtual memory). Thus program variables are not shared between two processes. We need to use `interprocess communication (IPC)` techniques if we want to share data between two processes which will be shown further"
   ]
  },
  {
   "cell_type": "markdown",
   "metadata": {},
   "source": [
    "### If we print `square_result` variable inside the process (i.e function) we'll get the required list"
   ]
  },
  {
   "cell_type": "code",
   "execution_count": 19,
   "metadata": {},
   "outputs": [],
   "source": [
    "def square(numbers):\n",
    "    \n",
    "    global square_result\n",
    "    \n",
    "    for n in numbers:\n",
    "        print('square of %d is %d' % (n, n*n))\n",
    "        square_result.append(n*n)\n",
    "        \n",
    "    print('\\nWithin the process. Result:', square_result)"
   ]
  },
  {
   "cell_type": "code",
   "execution_count": 20,
   "metadata": {},
   "outputs": [
    {
     "name": "stdout",
     "output_type": "stream",
     "text": [
      "square of 2 is 4\n",
      "square of 3 is 9\n",
      "square of 8 is 64\n",
      "\n",
      "Within the process. Result: [4, 9, 64]\n",
      "Completed\n"
     ]
    }
   ],
   "source": [
    "p1 = multiprocessing.Process(target=square, args=(num_list,))\n",
    "\n",
    "p1.start()\n",
    "p1.join()\n",
    "\n",
    "print(\"Completed\")"
   ]
  },
  {
   "cell_type": "code",
   "execution_count": 21,
   "metadata": {},
   "outputs": [
    {
     "data": {
      "text/plain": [
       "<Process(Process-9, stopped)>"
      ]
     },
     "execution_count": 21,
     "metadata": {},
     "output_type": "execute_result"
    }
   ],
   "source": [
    "p1"
   ]
  },
  {
   "cell_type": "markdown",
   "metadata": {},
   "source": [
    "### This memory sharing property of multiprocesing is opposite of `multithreading` module, in threading once a variable is declared that is shared between every thread"
   ]
  },
  {
   "cell_type": "code",
   "execution_count": 22,
   "metadata": {},
   "outputs": [],
   "source": [
    "import threading"
   ]
  },
  {
   "cell_type": "code",
   "execution_count": 23,
   "metadata": {},
   "outputs": [],
   "source": [
    "def square(numbers):\n",
    "    \n",
    "    global square_result\n",
    "    \n",
    "    for n in numbers:\n",
    "        print('square of %d is %d' % (n, n*n))\n",
    "        square_result.append(n*n)"
   ]
  },
  {
   "cell_type": "code",
   "execution_count": 26,
   "metadata": {},
   "outputs": [
    {
     "name": "stdout",
     "output_type": "stream",
     "text": [
      "square of 2 is 4\n",
      "square of 3 is 9\n",
      "square of 8 is 64\n",
      "\n",
      "Result: [4, 9, 64]\n",
      "\n",
      "Completed\n"
     ]
    }
   ],
   "source": [
    "square_result = []\n",
    "p1 = threading.Thread(target=square, args=(num_list,))\n",
    "\n",
    "p1.start()\n",
    "p1.join()\n",
    "\n",
    "print('\\nResult:', square_result)\n",
    "\n",
    "print(\"\\nCompleted\")"
   ]
  },
  {
   "cell_type": "markdown",
   "metadata": {},
   "source": [
    "`output`: Thread changed the globaly declared variable and saved the square of the integers"
   ]
  },
  {
   "cell_type": "code",
   "execution_count": 27,
   "metadata": {},
   "outputs": [
    {
     "data": {
      "text/plain": [
       "[4, 9, 64]"
      ]
     },
     "execution_count": 27,
     "metadata": {},
     "output_type": "execute_result"
    }
   ],
   "source": [
    "square_result"
   ]
  }
 ],
 "metadata": {
  "environment": {
   "name": "tf2-gpu.2-5.m70",
   "type": "gcloud",
   "uri": "gcr.io/deeplearning-platform-release/tf2-gpu.2-5:m70"
  },
  "kernelspec": {
   "display_name": "Python 3",
   "language": "python",
   "name": "python3"
  },
  "language_info": {
   "codemirror_mode": {
    "name": "ipython",
    "version": 3
   },
   "file_extension": ".py",
   "mimetype": "text/x-python",
   "name": "python",
   "nbconvert_exporter": "python",
   "pygments_lexer": "ipython3",
   "version": "3.7.10"
  }
 },
 "nbformat": 4,
 "nbformat_minor": 4
}
