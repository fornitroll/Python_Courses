{
 "cells": [
  {
   "cell_type": "markdown",
   "metadata": {},
   "source": [
    "### `Multiprocessing` is a process which allow spawning i.e it creates child process and execute them, in multithreading child threads are created and executed, here instead of child threads child processes or sub processes are created\n",
    "* The main advantage of multiprocessing is that global interpreter has no effect on it, due to this, the multiprocessing module allows the programmer to fully leverage multiple processors on a given machine.\n",
    "\n",
    "https://docs.python.org/3/library/multiprocessing.html"
   ]
  },
  {
   "cell_type": "markdown",
   "metadata": {},
   "source": [
    "https://github.com/codebasics/py/blob/master/Multiprocessing/multiprocessing_introduction.py"
   ]
  },
  {
   "cell_type": "code",
   "execution_count": 3,
   "metadata": {},
   "outputs": [],
   "source": [
    "import time"
   ]
  },
  {
   "cell_type": "code",
   "execution_count": 4,
   "metadata": {},
   "outputs": [],
   "source": [
    "def square(number):\n",
    "    \n",
    "    time.sleep(1)\n",
    "    result = number * number\n",
    "    print(\"The number %d squares to %d\" % (number, result))"
   ]
  },
  {
   "cell_type": "code",
   "execution_count": 5,
   "metadata": {},
   "outputs": [
    {
     "name": "stdout",
     "output_type": "stream",
     "text": [
      "The number 1 squares to 1\n",
      "The number 2 squares to 4\n",
      "The number 3 squares to 9\n",
      "The number 4 squares to 16\n"
     ]
    }
   ],
   "source": [
    "numbers = [1, 2, 3, 4]\n",
    "\n",
    "start_time = time.time()\n",
    "\n",
    "for number in numbers:\n",
    "        square(number)  \n",
    "        \n",
    "end_time = time.time()"
   ]
  },
  {
   "cell_type": "code",
   "execution_count": 6,
   "metadata": {},
   "outputs": [
    {
     "data": {
      "text/plain": [
       "4.0052549839019775"
      ]
     },
     "execution_count": 6,
     "metadata": {},
     "output_type": "execute_result"
    }
   ],
   "source": [
    "end_time - start_time"
   ]
  },
  {
   "cell_type": "markdown",
   "metadata": {},
   "source": [
    "<B> importing multiprocessing and os module"
   ]
  },
  {
   "cell_type": "code",
   "execution_count": 7,
   "metadata": {},
   "outputs": [],
   "source": [
    "import os\n",
    "\n",
    "from multiprocessing import Process, current_process"
   ]
  },
  {
   "cell_type": "markdown",
   "metadata": {},
   "source": [
    "### The above operation is being ecxecuted using `multiprocessing` module, the syntex is similar to `threading`\n",
    "`start()`: Start the process’s activity. This must be called at most once per process object.\n",
    "https://docs.python.org/3/library/multiprocessing.html#multiprocessing.Process.start\n",
    "\n",
    "`join()`: It lets the child process execute before the main process starts. <Br>\n",
    "https://docs.python.org/3/library/multiprocessing.html#multiprocessing.Process.join"
   ]
  },
  {
   "cell_type": "markdown",
   "metadata": {},
   "source": [
    "We are using the \"os\" module in Python to print out the process ID assigned to the call of this function assigned by the operting system. \n",
    "https://docs.python.org/3/library/os.html#os.getpid"
   ]
  },
  {
   "cell_type": "code",
   "execution_count": 24,
   "metadata": {},
   "outputs": [],
   "source": [
    "def square(number):\n",
    "    \n",
    "    time.sleep(1)\n",
    "    result = number * number\n",
    "    \n",
    "    process_id = os.getpid()\n",
    "    print(\"Process ID:\", process_id)\n",
    "    \n",
    "    print(\"The number %d squares to %d \\n\" % (number, result))"
   ]
  },
  {
   "cell_type": "code",
   "execution_count": 54,
   "metadata": {},
   "outputs": [
    {
     "name": "stdout",
     "output_type": "stream",
     "text": [
      "Process ID: 6240\n",
      "The number 1 squares to 1 \n",
      "\n",
      "Process ID: 6241\n",
      "The number 2 squares to 4 \n",
      "\n",
      "Process ID: 6242\n",
      "The number 3 squares to 9 \n",
      "\n",
      "Process ID: 6243\n",
      "The number 4 squares to 16 \n",
      "\n",
      "main process completed\n"
     ]
    }
   ],
   "source": [
    "start_time = time.time()\n",
    "\n",
    "for i, number in enumerate(numbers):\n",
    "    \n",
    "    process = Process(target=square, args=(number,))\n",
    "    \n",
    "    process.start() \n",
    "     \n",
    "process.join()\n",
    "print('main process completed')\n",
    "end_time = time.time()"
   ]
  },
  {
   "cell_type": "code",
   "execution_count": 45,
   "metadata": {},
   "outputs": [
    {
     "data": {
      "text/plain": [
       "0.05302023887634277"
      ]
     },
     "execution_count": 45,
     "metadata": {},
     "output_type": "execute_result"
    }
   ],
   "source": [
    "end_time - start_time"
   ]
  },
  {
   "cell_type": "code",
   "execution_count": 50,
   "metadata": {},
   "outputs": [
    {
     "name": "stdout",
     "output_type": "stream",
     "text": [
      "main process completed\n",
      "Process ID: 5698\n",
      "The number 1 squares to 1 \n",
      "\n",
      "Process ID: 5699\n",
      "The number 2 squares to 4 \n",
      "\n",
      "Process ID: 5700\n",
      "The number 3 squares to 9 \n",
      "\n",
      "Process ID: 5701\n",
      "The number 4 squares to 16 \n",
      "\n"
     ]
    }
   ],
   "source": [
    "# in this example \"process.join()\" command is deactivated. \n",
    "# look at the printed statement print('main process completed')\n",
    "# printed even before all child processes are finished (print from function after \"main process completed\")\n",
    "\n",
    "\n",
    "start_time = time.time()\n",
    "\n",
    "for i, number in enumerate(numbers):\n",
    "    \n",
    "    process = Process(target=square, args=(number,))\n",
    "    \n",
    "    process.start() \n",
    "    \n",
    "#process.join()\n",
    "print('main process completed')\n",
    "end_time = time.time()"
   ]
  },
  {
   "cell_type": "code",
   "execution_count": 51,
   "metadata": {},
   "outputs": [
    {
     "data": {
      "text/plain": [
       "0.04291415214538574"
      ]
     },
     "execution_count": 51,
     "metadata": {},
     "output_type": "execute_result"
    }
   ],
   "source": [
    "end_time - start_time"
   ]
  },
  {
   "cell_type": "markdown",
   "metadata": {},
   "source": [
    "### We can also use the `current process` function to get the name of the current process"
   ]
  },
  {
   "cell_type": "code",
   "execution_count": 12,
   "metadata": {},
   "outputs": [],
   "source": [
    "def square(number):\n",
    "    \n",
    "    time.sleep(1)\n",
    "    result = number * number\n",
    "    \n",
    "    process_id = current_process().pid\n",
    "    process_name = current_process().name\n",
    "    \n",
    "    print(\"Process ID is %s and %s and name is %s\" % (process_id, os.getpid(), process_name))\n",
    "    \n",
    "    print(\"The number %d squares to %d \\n\" % (number, result))"
   ]
  },
  {
   "cell_type": "code",
   "execution_count": 17,
   "metadata": {},
   "outputs": [
    {
     "name": "stdout",
     "output_type": "stream",
     "text": [
      "Process ID is 4579 and 4579 and name is Process-13\n",
      "The number 1 squares to 1 \n",
      "\n",
      "Process ID is 4580 and 4580 and name is Process-14\n",
      "The number 2 squares to 4 \n",
      "\n",
      "Process ID is 4581 and 4581 and name is Process-15\n",
      "The number 3 squares to 9 \n",
      "\n",
      "Process ID is 4582 and 4582 and name is Process-16\n",
      "The number 4 squares to 16 \n",
      "\n"
     ]
    }
   ],
   "source": [
    "start_time = time.time()\n",
    "\n",
    "for i, number in enumerate(numbers):\n",
    "    \n",
    "    process = Process(target=square, args=(number,))\n",
    "    process.start() \n",
    "    \n",
    "process.join()\n",
    "\n",
    "end_time = time.time() - start_time"
   ]
  },
  {
   "cell_type": "code",
   "execution_count": 18,
   "metadata": {},
   "outputs": [
    {
     "data": {
      "text/plain": [
       "1.0555996894836426"
      ]
     },
     "execution_count": 18,
     "metadata": {},
     "output_type": "execute_result"
    }
   ],
   "source": [
    "end_time"
   ]
  },
  {
   "cell_type": "code",
   "execution_count": null,
   "metadata": {},
   "outputs": [],
   "source": []
  }
 ],
 "metadata": {
  "environment": {
   "name": "tf2-gpu.2-5.m70",
   "type": "gcloud",
   "uri": "gcr.io/deeplearning-platform-release/tf2-gpu.2-5:m70"
  },
  "kernelspec": {
   "display_name": "Python 3",
   "language": "python",
   "name": "python3"
  },
  "language_info": {
   "codemirror_mode": {
    "name": "ipython",
    "version": 3
   },
   "file_extension": ".py",
   "mimetype": "text/x-python",
   "name": "python",
   "nbconvert_exporter": "python",
   "pygments_lexer": "ipython3",
   "version": "3.7.10"
  }
 },
 "nbformat": 4,
 "nbformat_minor": 4
}
