{
 "cells": [
  {
   "cell_type": "markdown",
   "metadata": {},
   "source": [
    "## Sharing data between processes\n",
    "In multiprocessing, any newly created process will do following:\n",
    " * Run independently\n",
    " * Have their own memory space\n",
    " \n",
    " https://docs.python.org/3/library/multiprocessing.html#sharing-state-between-processes"
   ]
  },
  {
   "cell_type": "markdown",
   "metadata": {},
   "source": [
    "<b> importing multiprocessing library"
   ]
  },
  {
   "cell_type": "code",
   "execution_count": 1,
   "metadata": {},
   "outputs": [],
   "source": [
    "import multiprocessing"
   ]
  },
  {
   "cell_type": "markdown",
   "metadata": {},
   "source": [
    "<B> Creating an empty list"
   ]
  },
  {
   "cell_type": "code",
   "execution_count": 2,
   "metadata": {},
   "outputs": [],
   "source": [
    "result = []"
   ]
  },
  {
   "cell_type": "code",
   "execution_count": 3,
   "metadata": {},
   "outputs": [],
   "source": [
    "def square(num_list):\n",
    "    \n",
    "    global result\n",
    "    for num in num_list:\n",
    "        result.append(num * num)\n",
    "        \n",
    "    print('Child process result:', result)"
   ]
  },
  {
   "cell_type": "code",
   "execution_count": 4,
   "metadata": {},
   "outputs": [],
   "source": [
    "num_list = [1, 2, 3, 4]"
   ]
  },
  {
   "cell_type": "code",
   "execution_count": 5,
   "metadata": {},
   "outputs": [
    {
     "name": "stdout",
     "output_type": "stream",
     "text": [
      "Child process result: [1, 4, 9, 16]\n"
     ]
    }
   ],
   "source": [
    "p1 = multiprocessing.Process(target=square, args=(num_list, ))\n",
    "\n",
    "p1.start()\n",
    "p1.join()"
   ]
  },
  {
   "cell_type": "markdown",
   "metadata": {},
   "source": [
    "<b> `output`:The child process makes a copy of the globaly declared list and append squares inside it that is why the updated list is only accessible inside the child process"
   ]
  },
  {
   "cell_type": "code",
   "execution_count": 6,
   "metadata": {},
   "outputs": [
    {
     "name": "stdout",
     "output_type": "stream",
     "text": [
      "Main process result: []\n"
     ]
    }
   ],
   "source": [
    "print('Main process result:', result)"
   ]
  },
  {
   "cell_type": "markdown",
   "metadata": {},
   "source": [
    "<b> `output`: But main process is printing the initial empty list"
   ]
  },
  {
   "cell_type": "markdown",
   "metadata": {},
   "source": [
    "## Method 1: Sharing Data Using Shared memory\n",
    " By using `shared memory` we can get rid of the issue of sharing memory among the processes. There is a memory region in our systems which is called `shared memory` and can be accessed by multiple proceeses, `Array` and `Value` objects are allocated from this shared memory. ( This array and value has no connection with python's array and value )\n",
    "\n",
    "multiprocessing module provides Array and Value objects to share data between processes.\n",
    "* Array: a ctypes array allocated from shared memory\n",
    "* Value: a ctypes object allocated from shared memory\n",
    "\n",
    "https://docs.python.org/3/library/multiprocessing.html#shared-ctypes-objects"
   ]
  },
  {
   "cell_type": "markdown",
   "metadata": {},
   "source": [
    "###  The main agenda behind the following operation: \n",
    "* We are creating some variable in the main process, and changing them in the child process, after that we want to see that whether we can see the change in the variables if we call them from the main process"
   ]
  },
  {
   "cell_type": "markdown",
   "metadata": {},
   "source": [
    "<b> We can not assign elements to a ctype array by using append method of python, we have to use enumerate that we take the help of index to assign value to the array"
   ]
  },
  {
   "cell_type": "code",
   "execution_count": 14,
   "metadata": {},
   "outputs": [],
   "source": [
    "def square_list(numlist, result, square_sum):\n",
    "    \n",
    "    for idx, num in enumerate(numlist): \n",
    "        result[idx] = num * num \n",
    "        \n",
    "    square_sum.value = sum(result)"
   ]
  },
  {
   "cell_type": "markdown",
   "metadata": {},
   "source": [
    "<b> `multiprocessing.Array()` returns c type array as output <br> </b>\n",
    "<b> `multiprocessing.Value()` retuerns c type object as output </b>"
   ]
  },
  {
   "cell_type": "markdown",
   "metadata": {},
   "source": [
    "#### Initialize a shared Array\n",
    "i denotes signed integer and 4 is the size of array to be allocated"
   ]
  },
  {
   "cell_type": "code",
   "execution_count": 15,
   "metadata": {},
   "outputs": [],
   "source": [
    "result = multiprocessing.Array('i', 4)   "
   ]
  },
  {
   "cell_type": "markdown",
   "metadata": {},
   "source": [
    "#### Initialize a shared Value\n",
    "i is for the datatype of the object to be returned i.e signed integer"
   ]
  },
  {
   "cell_type": "code",
   "execution_count": 16,
   "metadata": {},
   "outputs": [],
   "source": [
    "square_sum = multiprocessing.Value('i')  "
   ]
  },
  {
   "cell_type": "code",
   "execution_count": 17,
   "metadata": {},
   "outputs": [],
   "source": [
    "num_list = [1, 2, 3, 4]\n",
    "\n",
    "p = multiprocessing.Process(target = square_list, \n",
    "                            args = (num_list, result, square_sum))"
   ]
  },
  {
   "cell_type": "code",
   "execution_count": 18,
   "metadata": {},
   "outputs": [],
   "source": [
    "p.start()\n",
    "p.join()"
   ]
  },
  {
   "cell_type": "code",
   "execution_count": 19,
   "metadata": {},
   "outputs": [
    {
     "data": {
      "text/plain": [
       "[1, 4, 9, 16]"
      ]
     },
     "execution_count": 19,
     "metadata": {},
     "output_type": "execute_result"
    }
   ],
   "source": [
    "list(result)"
   ]
  },
  {
   "cell_type": "code",
   "execution_count": 20,
   "metadata": {},
   "outputs": [
    {
     "data": {
      "text/plain": [
       "30"
      ]
     },
     "execution_count": 20,
     "metadata": {},
     "output_type": "execute_result"
    }
   ],
   "source": [
    "square_sum.value"
   ]
  },
  {
   "cell_type": "code",
   "execution_count": 21,
   "metadata": {},
   "outputs": [
    {
     "data": {
      "text/plain": [
       "<SynchronizedArray wrapper for <multiprocessing.sharedctypes.c_int_Array_4 object at 0x7f6f05eb1cb0>>"
      ]
     },
     "execution_count": 21,
     "metadata": {},
     "output_type": "execute_result"
    }
   ],
   "source": [
    "result"
   ]
  },
  {
   "cell_type": "markdown",
   "metadata": {},
   "source": [
    "## Method 2: Sharing data using Server Process\n",
    "\n",
    "Whenever a python program starts, a <b> server process </b> is also started. From there on, whenever a new process is needed, the parent process connects to the server and requests it to fork a new process. We can save the data in this server process which later can be shared among different child processes.\n",
    "    \n",
    "\n",
    "multiprocessing module provides a <b> Manager </b> class which controls a server process. Hence, this class provide way to share data using server process"
   ]
  },
  {
   "cell_type": "markdown",
   "metadata": {},
   "source": [
    "https://github.com/nikhilkumarsingh/Parallel-Programming-in-Python/blob/master/06.%20Sharing%20data%20using%20Server%20Process/notebook.ipynb"
   ]
  },
  {
   "cell_type": "code",
   "execution_count": 2,
   "metadata": {},
   "outputs": [],
   "source": [
    "def get_data(data_list):\n",
    "    for data in data_list:\n",
    "        print(\"Name: %s \\nScore: %d\\n\" % (data[0], data[1]))\n",
    "\n",
    "def append_data(new_data, data_list):\n",
    "    data_list.append(new_data)\n",
    "    print(\"New data appended!\\n\")"
   ]
  },
  {
   "cell_type": "code",
   "execution_count": 3,
   "metadata": {},
   "outputs": [],
   "source": [
    "database = ([('Maura', 70), ('Alexis', 79), ('Pete',96)])"
   ]
  },
  {
   "cell_type": "code",
   "execution_count": 4,
   "metadata": {},
   "outputs": [],
   "source": [
    "new_data = ('Leroy', 87)"
   ]
  },
  {
   "cell_type": "code",
   "execution_count": 5,
   "metadata": {},
   "outputs": [],
   "source": [
    "p1 = multiprocessing.Process(target=append_data, \n",
    "                             args=(new_data, database))\n",
    "p2 = multiprocessing.Process(target=get_data, args=(database, ))"
   ]
  },
  {
   "cell_type": "code",
   "execution_count": 6,
   "metadata": {},
   "outputs": [
    {
     "name": "stdout",
     "output_type": "stream",
     "text": [
      "New data appended!\n",
      "\n"
     ]
    }
   ],
   "source": [
    "p1.start()\n",
    "p1.join()"
   ]
  },
  {
   "cell_type": "code",
   "execution_count": 7,
   "metadata": {},
   "outputs": [
    {
     "name": "stdout",
     "output_type": "stream",
     "text": [
      "Name: Maura \n",
      "Score: 70\n",
      "\n",
      "Name: Alexis \n",
      "Score: 79\n",
      "\n",
      "Name: Pete \n",
      "Score: 96\n",
      "\n"
     ]
    }
   ],
   "source": [
    "p2.start()\n",
    "p2.join()"
   ]
  },
  {
   "cell_type": "code",
   "execution_count": 8,
   "metadata": {},
   "outputs": [
    {
     "data": {
      "text/plain": [
       "[('Maura', 70), ('Alexis', 79), ('Pete', 96)]"
      ]
     },
     "execution_count": 8,
     "metadata": {},
     "output_type": "execute_result"
    }
   ],
   "source": [
    "database"
   ]
  },
  {
   "cell_type": "markdown",
   "metadata": {},
   "source": [
    "#### `output`: After execution of p2 process, the new data elements should be visible in the data list but it is not visible because while process start to work with variables they create their own copy of variable so the p1 process `new_data` is not the one which is printed by the p2 process. Without data sharing the processes can not coordinate with each other"
   ]
  },
  {
   "cell_type": "markdown",
   "metadata": {},
   "source": [
    "### Now using the `Manager` class of multiprocessing module\n",
    "Note that the database list here is of type manager.list()"
   ]
  },
  {
   "cell_type": "markdown",
   "metadata": {},
   "source": [
    "Benefit of Manager class - it can be used for any type of variable and shared, BUT it is slower then using a shared memory"
   ]
  },
  {
   "cell_type": "code",
   "execution_count": 9,
   "metadata": {},
   "outputs": [
    {
     "name": "stdout",
     "output_type": "stream",
     "text": [
      "New data appended!\n",
      "\n",
      "Name: Maura \n",
      "Score: 70\n",
      "\n",
      "Name: Alexis \n",
      "Score: 79\n",
      "\n",
      "Name: Pete \n",
      "Score: 96\n",
      "\n",
      "Name: Leroy \n",
      "Score: 87\n",
      "\n",
      "Data available to the Manager:  [('Maura', 70), ('Alexis', 79), ('Pete', 96), ('Leroy', 87)]\n"
     ]
    }
   ],
   "source": [
    "with multiprocessing.Manager() as manager:\n",
    "    \n",
    "    database = (manager.list([('Maura', 70), ('Alexis', 79), ('Pete',96)]))\n",
    "    new_data = ('Leroy', 87)\n",
    "\n",
    "    p1 = multiprocessing.Process(target=append_data, \n",
    "                                 args=(new_data, database)) \n",
    "    p2 = multiprocessing.Process(target=get_data, args=(database,))\n",
    "    \n",
    "    p1.start()\n",
    "    p2.start()\n",
    "    \n",
    "    p1.join()\n",
    "    p2.join()\n",
    "    \n",
    "    print(\"Data available to the Manager: \", database)"
   ]
  },
  {
   "cell_type": "markdown",
   "metadata": {},
   "source": [
    "<b> `output`: Process p2 asks server process for the updated list that is saved in the variable `data`, hence we can see the `new data` in it <b>"
   ]
  },
  {
   "cell_type": "code",
   "execution_count": 13,
   "metadata": {},
   "outputs": [
    {
     "name": "stdout",
     "output_type": "stream",
     "text": [
      "Data available to the Manager:  <ListProxy object, typeid 'list' at 0x7f6eb8096e90; '__str__()' failed>\n"
     ]
    }
   ],
   "source": [
    "print(\"Data available to the Manager: \", database)"
   ]
  },
  {
   "cell_type": "code",
   "execution_count": null,
   "metadata": {
    "collapsed": true,
    "jupyter": {
     "outputs_hidden": true
    }
   },
   "outputs": [],
   "source": []
  },
  {
   "cell_type": "code",
   "execution_count": null,
   "metadata": {
    "collapsed": true,
    "jupyter": {
     "outputs_hidden": true
    }
   },
   "outputs": [],
   "source": []
  },
  {
   "cell_type": "code",
   "execution_count": null,
   "metadata": {
    "collapsed": true,
    "jupyter": {
     "outputs_hidden": true
    }
   },
   "outputs": [],
   "source": []
  },
  {
   "cell_type": "code",
   "execution_count": null,
   "metadata": {
    "collapsed": true,
    "jupyter": {
     "outputs_hidden": true
    }
   },
   "outputs": [],
   "source": []
  },
  {
   "cell_type": "code",
   "execution_count": null,
   "metadata": {
    "collapsed": true,
    "jupyter": {
     "outputs_hidden": true
    }
   },
   "outputs": [],
   "source": []
  },
  {
   "cell_type": "code",
   "execution_count": null,
   "metadata": {
    "collapsed": true,
    "jupyter": {
     "outputs_hidden": true
    }
   },
   "outputs": [],
   "source": []
  },
  {
   "cell_type": "code",
   "execution_count": null,
   "metadata": {
    "collapsed": true,
    "jupyter": {
     "outputs_hidden": true
    }
   },
   "outputs": [],
   "source": []
  },
  {
   "cell_type": "code",
   "execution_count": null,
   "metadata": {
    "collapsed": true,
    "jupyter": {
     "outputs_hidden": true
    }
   },
   "outputs": [],
   "source": []
  },
  {
   "cell_type": "code",
   "execution_count": null,
   "metadata": {
    "collapsed": true,
    "jupyter": {
     "outputs_hidden": true
    }
   },
   "outputs": [],
   "source": []
  },
  {
   "cell_type": "code",
   "execution_count": null,
   "metadata": {
    "collapsed": true,
    "jupyter": {
     "outputs_hidden": true
    }
   },
   "outputs": [],
   "source": []
  },
  {
   "cell_type": "code",
   "execution_count": null,
   "metadata": {
    "collapsed": true,
    "jupyter": {
     "outputs_hidden": true
    }
   },
   "outputs": [],
   "source": []
  },
  {
   "cell_type": "code",
   "execution_count": null,
   "metadata": {
    "collapsed": true,
    "jupyter": {
     "outputs_hidden": true
    }
   },
   "outputs": [],
   "source": []
  },
  {
   "cell_type": "code",
   "execution_count": null,
   "metadata": {
    "collapsed": true,
    "jupyter": {
     "outputs_hidden": true
    }
   },
   "outputs": [],
   "source": []
  },
  {
   "cell_type": "code",
   "execution_count": null,
   "metadata": {
    "collapsed": true,
    "jupyter": {
     "outputs_hidden": true
    }
   },
   "outputs": [],
   "source": []
  },
  {
   "cell_type": "code",
   "execution_count": null,
   "metadata": {
    "collapsed": true,
    "jupyter": {
     "outputs_hidden": true
    }
   },
   "outputs": [],
   "source": []
  }
 ],
 "metadata": {
  "environment": {
   "name": "tf2-gpu.2-5.m70",
   "type": "gcloud",
   "uri": "gcr.io/deeplearning-platform-release/tf2-gpu.2-5:m70"
  },
  "kernelspec": {
   "display_name": "Python 3",
   "language": "python",
   "name": "python3"
  },
  "language_info": {
   "codemirror_mode": {
    "name": "ipython",
    "version": 3
   },
   "file_extension": ".py",
   "mimetype": "text/x-python",
   "name": "python",
   "nbconvert_exporter": "python",
   "pygments_lexer": "ipython3",
   "version": "3.7.10"
  }
 },
 "nbformat": 4,
 "nbformat_minor": 4
}
