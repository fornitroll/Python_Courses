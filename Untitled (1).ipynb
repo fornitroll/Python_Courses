{
 "cells": [
  {
   "cell_type": "code",
   "execution_count": 12,
   "id": "6736afa1",
   "metadata": {},
   "outputs": [],
   "source": [
    "import queue"
   ]
  },
  {
   "cell_type": "code",
   "execution_count": 2,
   "id": "cb29929c",
   "metadata": {},
   "outputs": [
    {
     "name": "stdout",
     "output_type": "stream",
     "text": [
      "Archive:  it_pymcpydj_03_enus_09_assets.zip\n",
      "  inflating: CommunicationBetweenProceeses.ipynb  \n",
      "   creating: __MACOSX/\n",
      "  inflating: __MACOSX/._CommunicationBetweenProceeses.ipynb  \n"
     ]
    }
   ],
   "source": [
    "# unzip the exercise materials\n",
    "!unzip it_pymcpydj_03_enus_09_assets.zip"
   ]
  },
  {
   "cell_type": "code",
   "execution_count": 1,
   "id": "cdd63ff9",
   "metadata": {},
   "outputs": [],
   "source": [
    "a = [1,2,3,4,5,6,7,8,9]"
   ]
  },
  {
   "cell_type": "code",
   "execution_count": null,
   "id": "75cd0322",
   "metadata": {},
   "outputs": [],
   "source": [
    "# binary search\n",
    "x = 4\n",
    "\n",
    "k = len(a)//2\n",
    "while k>0:\n",
    "    if x>a[k]:\n",
    "        k = k//2\n",
    "    elif x<a[k]:\n",
    "        k = k//2+k\n",
    "    else:\n",
    "        return k\n",
    "    "
   ]
  },
  {
   "cell_type": "markdown",
   "id": "8ad35cec",
   "metadata": {},
   "source": [
    "#### Get the name and ID of the current process"
   ]
  },
  {
   "cell_type": "raw",
   "id": "1bb6c206",
   "metadata": {},
   "source": [
    "os.getpid()   # Return the current process id.\n",
    "\n",
    "multiprocessing.current_process() --> giges pid (process id) and process name"
   ]
  },
  {
   "cell_type": "markdown",
   "id": "989c524f",
   "metadata": {},
   "source": [
    "Options, available in python to share data between processes:\n",
    "\n",
    "1) Use multithreading\n",
    "2) in Multiprocessing - ctype onjects (multiprocessing.Queue(), multiprocessing.Value('i', 600), multiprocessing.Array('i', size)\n",
    "3) in Multiprocessing - use:\n",
    "\n",
    "       with multiprocessing.Manager() as manager:\n",
    "            # initialize the data\n",
    "            database = (manager.list([('Maura', 70), ('Alexis', 79), ('Pete',96)]))\n",
    "            new_data = ('Leroy', 87)\n",
    "            \n",
    "            p1 = multiprocessing.Process(target=append_data, \n",
    "                                         args=(new_data, database)) \n",
    "            p2 = multiprocessing.Process(target=get_data, args=(database,))\n",
    "\n",
    "            p1.start()\n",
    "            p2.start()\n",
    "\n",
    "            p1.join()\n",
    "            p2.join()"
   ]
  },
  {
   "cell_type": "markdown",
   "id": "b6077c51",
   "metadata": {},
   "source": [
    "<img src=\"mp1.PNG\">"
   ]
  },
  {
   "cell_type": "markdown",
   "id": "92406614",
   "metadata": {},
   "source": [
    "<img src=\"mp2.PNG\">"
   ]
  },
  {
   "cell_type": "code",
   "execution_count": null,
   "id": "2f611327",
   "metadata": {},
   "outputs": [],
   "source": []
  }
 ],
 "metadata": {
  "environment": {
   "name": "tf2-gpu.2-5.m70",
   "type": "gcloud",
   "uri": "gcr.io/deeplearning-platform-release/tf2-gpu.2-5:m70"
  },
  "kernelspec": {
   "display_name": "Python 3",
   "language": "python",
   "name": "python3"
  },
  "language_info": {
   "codemirror_mode": {
    "name": "ipython",
    "version": 3
   },
   "file_extension": ".py",
   "mimetype": "text/x-python",
   "name": "python",
   "nbconvert_exporter": "python",
   "pygments_lexer": "ipython3",
   "version": "3.7.10"
  }
 },
 "nbformat": 4,
 "nbformat_minor": 5
}
